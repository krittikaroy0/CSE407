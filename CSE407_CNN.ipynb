{
  "cells": [
    {
      "cell_type": "markdown",
      "metadata": {
        "id": "view-in-github",
        "colab_type": "text"
      },
      "source": [
        "<a href=\"https://colab.research.google.com/github/krittikaroy0/CSE407/blob/main/CSE407_CNN.ipynb\" target=\"_parent\"><img src=\"https://colab.research.google.com/assets/colab-badge.svg\" alt=\"Open In Colab\"/></a>"
      ]
    },
    {
      "cell_type": "markdown",
      "source": [
        "#CSE407 Green Computing\n",
        "#Section 1; SPRING2023\n",
        "#Paper Title: Development of a Nano-coating-Based Solution for \n",
        "#Surface Dirt Removal on Solar Panels through Image Processing Detection\n",
        "#Group Members:\n",
        "#1. Shafika Sikander[2019-3-60-057]\n",
        "#2. Krittika Roy[2020-1-60-065]\n",
        "#3. Nowshin Tasnia[2020-1-60-197]"
      ],
      "metadata": {
        "id": "tP2wLH7hd84t"
      }
    },
    {
      "cell_type": "code",
      "execution_count": null,
      "metadata": {
        "id": "3vVw94FR0F-e",
        "colab": {
          "base_uri": "https://localhost:8080/"
        },
        "outputId": "a536549f-1464-4750-c68c-8bcef30de650"
      },
      "outputs": [
        {
          "output_type": "stream",
          "name": "stdout",
          "text": [
            "Mounted at /content/drive\n"
          ]
        }
      ],
      "source": [
        "from google.colab import drive\n",
        "drive.mount('/content/drive')"
      ]
    },
    {
      "cell_type": "code",
      "execution_count": null,
      "metadata": {
        "id": "AvX9HTLy0HO-"
      },
      "outputs": [],
      "source": [
        "import tensorflow as tf"
      ]
    },
    {
      "cell_type": "code",
      "execution_count": null,
      "metadata": {
        "id": "fzLr9s0z0LZG"
      },
      "outputs": [],
      "source": [
        "device_list = tf.test.gpu_device_name()"
      ]
    },
    {
      "cell_type": "code",
      "execution_count": null,
      "metadata": {
        "colab": {
          "base_uri": "https://localhost:8080/",
          "height": 35
        },
        "id": "YMgVjd0m0Ne-",
        "outputId": "830665cf-c716-4981-a378-adf005dd2d00"
      },
      "outputs": [
        {
          "output_type": "execute_result",
          "data": {
            "text/plain": [
              "'/device:GPU:0'"
            ],
            "application/vnd.google.colaboratory.intrinsic+json": {
              "type": "string"
            }
          },
          "metadata": {},
          "execution_count": 6
        }
      ],
      "source": [
        "device_list"
      ]
    },
    {
      "cell_type": "code",
      "execution_count": null,
      "metadata": {
        "colab": {
          "base_uri": "https://localhost:8080/"
        },
        "id": "Br2wgfxF0Q1G",
        "outputId": "90976e05-2d78-4817-c194-1be87c337a8d"
      },
      "outputs": [
        {
          "output_type": "stream",
          "name": "stdout",
          "text": [
            "Found GPU at:()\n"
          ]
        }
      ],
      "source": [
        "if device_list  != '/device:GPU:0':\n",
        "  raise SystemError('GPU device not found')\n",
        "print('Found GPU at:()'.format(device_list))"
      ]
    },
    {
      "cell_type": "code",
      "execution_count": null,
      "metadata": {
        "colab": {
          "base_uri": "https://localhost:8080/"
        },
        "id": "qsrem-rx03Cz",
        "outputId": "d2e253f6-23e9-42ec-ecac-545edba93533"
      },
      "outputs": [
        {
          "output_type": "stream",
          "name": "stdout",
          "text": [
            "Found 2562 images belonging to 2 classes.\n",
            "Epoch 1/10\n",
            "41/41 [==============================] - 359s 9s/step - loss: 0.7425 - accuracy: 0.6066\n",
            "Epoch 2/10\n",
            "41/41 [==============================] - 96s 2s/step - loss: 0.6113 - accuracy: 0.6792\n",
            "Epoch 3/10\n",
            "41/41 [==============================] - 98s 2s/step - loss: 0.5514 - accuracy: 0.7381\n",
            "Epoch 4/10\n",
            "41/41 [==============================] - 97s 2s/step - loss: 0.5023 - accuracy: 0.7721\n",
            "Epoch 5/10\n",
            "41/41 [==============================] - 98s 2s/step - loss: 0.4779 - accuracy: 0.7791\n",
            "Epoch 6/10\n",
            "41/41 [==============================] - 97s 2s/step - loss: 0.4293 - accuracy: 0.8107\n",
            "Epoch 7/10\n",
            "41/41 [==============================] - 96s 2s/step - loss: 0.3324 - accuracy: 0.8630\n",
            "Epoch 8/10\n",
            "41/41 [==============================] - 97s 2s/step - loss: 0.2667 - accuracy: 0.8942\n",
            "Epoch 9/10\n",
            "41/41 [==============================] - 98s 2s/step - loss: 0.1824 - accuracy: 0.9329\n",
            "Epoch 10/10\n",
            "41/41 [==============================] - 96s 2s/step - loss: 0.1519 - accuracy: 0.9450\n",
            "Found 2562 images belonging to 2 classes.\n",
            "41/41 [==============================] - 93s 2s/step - loss: 0.1225 - accuracy: 0.9582\n"
          ]
        }
      ],
      "source": [
        "\n",
        "import tensorflow as tf\n",
        "from tensorflow.keras import layers\n",
        "from tensorflow.keras.preprocessing.image import ImageDataGenerator\n",
        "\n",
        "model = tf.keras.models.Sequential([\n",
        "    layers.Conv2D(32, (3, 3), activation='relu', input_shape=(224, 224, 3)),\n",
        "    layers.MaxPooling2D((2, 2)),\n",
        "    layers.Conv2D(64, (3, 3), activation='relu'),\n",
        "    layers.MaxPooling2D((2, 2)),\n",
        "    layers.Conv2D(128, (3, 3), activation='relu'),\n",
        "    layers.MaxPooling2D((2, 2)),\n",
        "    layers.Flatten(),\n",
        "    layers.Dense(128, activation='relu'),\n",
        "    layers.Dense(1, activation='sigmoid')\n",
        "])\n",
        "\n",
        "\n",
        "model.compile(optimizer='adam', loss='binary_crossentropy', metrics=['accuracy'])\n",
        "\n",
        "\n",
        "train_datagen = ImageDataGenerator(rescale=1./255)\n",
        "train_generator = train_datagen.flow_from_directory(\n",
        "        '/content/drive/MyDrive/CSE407/Detect_solar_dust/',\n",
        "        target_size=(224, 224),\n",
        "        batch_size=64,\n",
        "        class_mode='binary')\n",
        "\n",
        "model.fit(train_generator, epochs=10)\n",
        "\n",
        "\n",
        "test_datagen = ImageDataGenerator(rescale=1./255)\n",
        "test_generator = test_datagen.flow_from_directory(\n",
        "        '/content/drive/MyDrive/CSE407/Detect_solar_dust/',\n",
        "        target_size=(224, 224),\n",
        "        batch_size=64,\n",
        "        class_mode='binary')\n",
        "\n",
        "model.evaluate(test_generator)\n",
        "\n",
        "\n",
        "model.save('solar_panel_cnn.h5')\n"
      ]
    }
  ],
  "metadata": {
    "accelerator": "GPU",
    "colab": {
      "provenance": [],
      "include_colab_link": true
    },
    "gpuClass": "standard",
    "kernelspec": {
      "display_name": "Python 3",
      "name": "python3"
    },
    "language_info": {
      "name": "python"
    }
  },
  "nbformat": 4,
  "nbformat_minor": 0
}