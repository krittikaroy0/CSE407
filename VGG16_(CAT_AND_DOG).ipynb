{
  "cells": [
    {
      "cell_type": "markdown",
      "metadata": {
        "id": "view-in-github",
        "colab_type": "text"
      },
      "source": [
        "<a href=\"https://colab.research.google.com/github/krittikaroy0/CSE407/blob/main/VGG16_(CAT_AND_DOG).ipynb\" target=\"_parent\"><img src=\"https://colab.research.google.com/assets/colab-badge.svg\" alt=\"Open In Colab\"/></a>"
      ]
    },
    {
      "cell_type": "code",
      "execution_count": null,
      "metadata": {
        "id": "pgba3cVxqbnh"
      },
      "outputs": [],
      "source": [
        "import tensorflow as tf\n",
        "import os\n",
        "import numpy as np\n",
        "\n"
      ]
    },
    {
      "cell_type": "code",
      "execution_count": null,
      "metadata": {
        "id": "tr2zdEj5qbnn"
      },
      "outputs": [],
      "source": [
        "base_dir=r\"C:\\Users\\Asus\\own_dataset\""
      ]
    },
    {
      "cell_type": "code",
      "execution_count": null,
      "metadata": {
        "id": "KhN9WCbdqbnp"
      },
      "outputs": [],
      "source": [
        "#preprocessing"
      ]
    },
    {
      "cell_type": "code",
      "execution_count": null,
      "metadata": {
        "id": "WhJebPrWqbnq"
      },
      "outputs": [],
      "source": [
        "IMAGE_SIZE=224\n",
        "BATCH_SIZE=64\n",
        "\n",
        "train_datagen=tf.keras.preprocessing.image.ImageDataGenerator(\n",
        "    \n",
        "    \n",
        "    rescale=1./255,\n",
        "    zoom_range=0.2,\n",
        "    horizontal_flip=True,\n",
        "    validation_split=0.1)\n",
        "\n",
        "validation_datagen=tf.keras.preprocessing.image.ImageDataGenerator(\n",
        "    rescale=1./255,\n",
        "    \n",
        "    validation_split=0.1\n",
        ")\n",
        "    \n",
        "    "
      ]
    },
    {
      "cell_type": "code",
      "execution_count": null,
      "metadata": {
        "id": "avh-tIxLqbnr",
        "outputId": "97a6d280-2fef-4524-81fa-7388c816dbc5"
      },
      "outputs": [
        {
          "name": "stdout",
          "output_type": "stream",
          "text": [
            "Found 2337 images belonging to 2 classes.\n",
            "Found 258 images belonging to 2 classes.\n"
          ]
        }
      ],
      "source": [
        "train_genarator=train_datagen.flow_from_directory(\n",
        "    base_dir,\n",
        "    target_size=(IMAGE_SIZE,IMAGE_SIZE),\n",
        "    batch_size=BATCH_SIZE,\n",
        "    subset='training'\n",
        "    \n",
        "\n",
        ") \n",
        "\n",
        "validation_generator=validation_datagen.flow_from_directory(\n",
        "    base_dir,\n",
        "    target_size=(IMAGE_SIZE,IMAGE_SIZE),\n",
        "    batch_size=BATCH_SIZE,\n",
        "    subset='validation'\n",
        "    \n",
        "\n",
        ") \n",
        "    "
      ]
    },
    {
      "cell_type": "code",
      "execution_count": null,
      "metadata": {
        "id": "hV4CHMOYqbnv"
      },
      "outputs": [],
      "source": [
        "from tensorflow.keras.layers import Input,Flatten,Dense\n",
        "from tensorflow.keras.models import Model\n",
        "from tensorflow.keras.applications.vgg16 import VGG16\n",
        "from tensorflow.keras.models import Sequential\n",
        "from glob import glob\n",
        "\n"
      ]
    },
    {
      "cell_type": "code",
      "execution_count": null,
      "metadata": {
        "id": "uXvlFGNEqbnw",
        "outputId": "f70ae08f-a782-49d1-fc82-e7bb33b15316"
      },
      "outputs": [
        {
          "data": {
            "text/plain": [
              "<KerasTensor: shape=(None, 7, 7, 512) dtype=float32 (created by layer 'block5_pool')>"
            ]
          },
          "execution_count": 7,
          "metadata": {},
          "output_type": "execute_result"
        }
      ],
      "source": [
        "IMAGE_SIZE=[224,224]\n",
        "vgg=VGG16(input_shape=IMAGE_SIZE+[3],weights='imagenet',include_top=False)\n",
        "vgg.output"
      ]
    },
    {
      "cell_type": "code",
      "execution_count": null,
      "metadata": {
        "id": "gTo2R_DHqbny"
      },
      "outputs": [],
      "source": [
        "for layer in vgg.layers:\n",
        "    layer.trainable=False\n",
        "    "
      ]
    },
    {
      "cell_type": "code",
      "execution_count": null,
      "metadata": {
        "id": "-5WHUb9Bqbnz",
        "outputId": "d065bcbb-84c4-4017-802a-becbd541b349"
      },
      "outputs": [
        {
          "name": "stdout",
          "output_type": "stream",
          "text": [
            "2\n"
          ]
        }
      ],
      "source": [
        "folders=glob(r\"C:\\Users\\Asus\\own_dataset\\*\")\n",
        "print(len(folders))"
      ]
    },
    {
      "cell_type": "code",
      "execution_count": null,
      "metadata": {
        "id": "3NKnN3dNqbn0",
        "outputId": "5a3e7d69-2f0f-4204-9051-da9ca23dbf8e"
      },
      "outputs": [
        {
          "name": "stdout",
          "output_type": "stream",
          "text": [
            "Model: \"model\"\n",
            "_________________________________________________________________\n",
            "Layer (type)                 Output Shape              Param #   \n",
            "=================================================================\n",
            "input_1 (InputLayer)         [(None, 224, 224, 3)]     0         \n",
            "_________________________________________________________________\n",
            "block1_conv1 (Conv2D)        (None, 224, 224, 64)      1792      \n",
            "_________________________________________________________________\n",
            "block1_conv2 (Conv2D)        (None, 224, 224, 64)      36928     \n",
            "_________________________________________________________________\n",
            "block1_pool (MaxPooling2D)   (None, 112, 112, 64)      0         \n",
            "_________________________________________________________________\n",
            "block2_conv1 (Conv2D)        (None, 112, 112, 128)     73856     \n",
            "_________________________________________________________________\n",
            "block2_conv2 (Conv2D)        (None, 112, 112, 128)     147584    \n",
            "_________________________________________________________________\n",
            "block2_pool (MaxPooling2D)   (None, 56, 56, 128)       0         \n",
            "_________________________________________________________________\n",
            "block3_conv1 (Conv2D)        (None, 56, 56, 256)       295168    \n",
            "_________________________________________________________________\n",
            "block3_conv2 (Conv2D)        (None, 56, 56, 256)       590080    \n",
            "_________________________________________________________________\n",
            "block3_conv3 (Conv2D)        (None, 56, 56, 256)       590080    \n",
            "_________________________________________________________________\n",
            "block3_pool (MaxPooling2D)   (None, 28, 28, 256)       0         \n",
            "_________________________________________________________________\n",
            "block4_conv1 (Conv2D)        (None, 28, 28, 512)       1180160   \n",
            "_________________________________________________________________\n",
            "block4_conv2 (Conv2D)        (None, 28, 28, 512)       2359808   \n",
            "_________________________________________________________________\n",
            "block4_conv3 (Conv2D)        (None, 28, 28, 512)       2359808   \n",
            "_________________________________________________________________\n",
            "block4_pool (MaxPooling2D)   (None, 14, 14, 512)       0         \n",
            "_________________________________________________________________\n",
            "block5_conv1 (Conv2D)        (None, 14, 14, 512)       2359808   \n",
            "_________________________________________________________________\n",
            "block5_conv2 (Conv2D)        (None, 14, 14, 512)       2359808   \n",
            "_________________________________________________________________\n",
            "block5_conv3 (Conv2D)        (None, 14, 14, 512)       2359808   \n",
            "_________________________________________________________________\n",
            "block5_pool (MaxPooling2D)   (None, 7, 7, 512)         0         \n",
            "_________________________________________________________________\n",
            "flatten (Flatten)            (None, 25088)             0         \n",
            "_________________________________________________________________\n",
            "dense (Dense)                (None, 2)                 50178     \n",
            "=================================================================\n",
            "Total params: 14,764,866\n",
            "Trainable params: 50,178\n",
            "Non-trainable params: 14,714,688\n",
            "_________________________________________________________________\n"
          ]
        }
      ],
      "source": [
        "x=Flatten()(vgg.output)\n",
        "prediction=Dense(len(folders),activation='softmax')(x)\n",
        "model=Model(inputs=vgg.input,outputs=prediction)\n",
        "model.summary()\n"
      ]
    },
    {
      "cell_type": "code",
      "execution_count": null,
      "metadata": {
        "id": "nCaC3maFqbn2"
      },
      "outputs": [],
      "source": [
        "model.compile(loss='binary_crossentropy', optimizer='adam', metrics=['accuracy'])"
      ]
    },
    {
      "cell_type": "code",
      "execution_count": null,
      "metadata": {
        "id": "JW0PApx_qbn3",
        "outputId": "e78ccb1f-268f-452a-e40a-07e91fb1fd52"
      },
      "outputs": [
        {
          "name": "stdout",
          "output_type": "stream",
          "text": [
            "Epoch 1/10\n",
            "37/37 [==============================] - 589s 16s/step - loss: 0.6031 - accuracy: 0.7023 - val_loss: 0.2375 - val_accuracy: 0.9302\n",
            "Epoch 2/10\n",
            "37/37 [==============================] - 602s 16s/step - loss: 0.2267 - accuracy: 0.9062 - val_loss: 0.2077 - val_accuracy: 0.9147\n",
            "Epoch 3/10\n",
            "37/37 [==============================] - 586s 16s/step - loss: 0.1575 - accuracy: 0.9426 - val_loss: 0.1962 - val_accuracy: 0.9186\n",
            "Epoch 4/10\n",
            "37/37 [==============================] - 665s 18s/step - loss: 0.1706 - accuracy: 0.9295 - val_loss: 0.2524 - val_accuracy: 0.8953\n",
            "Epoch 5/10\n",
            "37/37 [==============================] - 837s 23s/step - loss: 0.1797 - accuracy: 0.9268 - val_loss: 0.2139 - val_accuracy: 0.9186\n",
            "Epoch 6/10\n",
            "37/37 [==============================] - 856s 23s/step - loss: 0.1224 - accuracy: 0.9537 - val_loss: 0.1935 - val_accuracy: 0.9225\n",
            "Epoch 7/10\n",
            "37/37 [==============================] - 859s 23s/step - loss: 0.1024 - accuracy: 0.9658 - val_loss: 0.2064 - val_accuracy: 0.9109\n",
            "Epoch 8/10\n",
            "37/37 [==============================] - 856s 23s/step - loss: 0.0934 - accuracy: 0.9734 - val_loss: 0.2042 - val_accuracy: 0.9264\n",
            "Epoch 9/10\n",
            "37/37 [==============================] - 858s 23s/step - loss: 0.0743 - accuracy: 0.9829 - val_loss: 0.1928 - val_accuracy: 0.9225\n",
            "Epoch 10/10\n",
            "37/37 [==============================] - 884s 24s/step - loss: 0.0959 - accuracy: 0.9631 - val_loss: 0.1965 - val_accuracy: 0.9186\n"
          ]
        }
      ],
      "source": [
        "epoch=10\n",
        "\n",
        "history=model.fit(train_genarator,\n",
        "                  steps_per_epoch=len(train_genarator),\n",
        "                  epochs=epoch,\n",
        "                  validation_data=validation_generator,\n",
        "                  validation_steps=len(validation_generator)\n",
        "                 )"
      ]
    },
    {
      "cell_type": "code",
      "execution_count": null,
      "metadata": {
        "id": "iUR-gLdeqbn4"
      },
      "outputs": [],
      "source": [
        "#prediction"
      ]
    },
    {
      "cell_type": "code",
      "execution_count": null,
      "metadata": {
        "id": "S68q_hUEqbn5",
        "outputId": "d7b12d70-8dcc-4bce-ea6b-66c374ee52f3"
      },
      "outputs": [
        {
          "name": "stdout",
          "output_type": "stream",
          "text": [
            "[[0. 1.]]\n",
            "dog\n"
          ]
        }
      ],
      "source": [
        "from keras.preprocessing import image\n",
        "import numpy as np\n",
        "\n",
        "img_pred=image.load_img(r\"C:\\Users\\Asus\\dogs-vs-cats\\test\\test1\\3582.jpg\",target_size=(224,224))\n",
        "\n",
        "img_pred=image.img_to_array(img_pred)\n",
        "img_pred=np.expand_dims(img_pred, axis=0)\n",
        "\n",
        "\n",
        "rslt= model.predict(img_pred)\n",
        "\n",
        "print(rslt)\n",
        "if rslt[0][0]>rslt[0][1]:\n",
        "    prediction=\"cat\"\n",
        "    \n",
        "    \n",
        "else:\n",
        "    prediction=\"dog\"\n",
        "print(prediction)"
      ]
    },
    {
      "cell_type": "code",
      "execution_count": null,
      "metadata": {
        "id": "szWZK9D2qbn7"
      },
      "outputs": [],
      "source": []
    }
  ],
  "metadata": {
    "kernelspec": {
      "display_name": "Python 3",
      "language": "python",
      "name": "python3"
    },
    "language_info": {
      "codemirror_mode": {
        "name": "ipython",
        "version": 3
      },
      "file_extension": ".py",
      "mimetype": "text/x-python",
      "name": "python",
      "nbconvert_exporter": "python",
      "pygments_lexer": "ipython3",
      "version": "3.7.9"
    },
    "colab": {
      "provenance": [],
      "include_colab_link": true
    }
  },
  "nbformat": 4,
  "nbformat_minor": 0
}